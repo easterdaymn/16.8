{
 "cells": [
  {
   "cell_type": "code",
   "execution_count": 3,
   "id": "1561464b-03f0-416a-a880-fcd56037fba4",
   "metadata": {},
   "outputs": [
    {
     "name": "stdout",
     "output_type": "stream",
     "text": [
      "Requirement already satisfied: sqlalchemy in c:\\users\\kenna\\anaconda3\\lib\\site-packages (2.0.25)\n",
      "Requirement already satisfied: typing-extensions>=4.6.0 in c:\\users\\kenna\\anaconda3\\lib\\site-packages (from sqlalchemy) (4.9.0)\n",
      "Requirement already satisfied: greenlet!=0.4.17 in c:\\users\\kenna\\anaconda3\\lib\\site-packages (from sqlalchemy) (3.0.1)\n"
     ]
    }
   ],
   "source": [
    "!pip install sqlalchemy\n"
   ]
  },
  {
   "cell_type": "code",
   "execution_count": 5,
   "id": "8188a950-1c84-4401-8eb3-6c795cdc9a97",
   "metadata": {},
   "outputs": [],
   "source": [
    "from sqlalchemy import create_engine, Column, Integer, String, select\n",
    "from sqlalchemy.orm import declarative_base, Session\n"
   ]
  },
  {
   "cell_type": "code",
   "execution_count": 7,
   "id": "a8e50cf7-4347-4cc0-bc9e-780c4477006d",
   "metadata": {},
   "outputs": [],
   "source": [
    "engine = create_engine('sqlite:///books.db', echo=True)\n"
   ]
  },
  {
   "cell_type": "code",
   "execution_count": 9,
   "id": "de7054fc-129e-431e-9142-c16c54119164",
   "metadata": {},
   "outputs": [],
   "source": [
    "Base = declarative_base()\n",
    "\n",
    "class Book(Base):\n",
    "    __tablename__ = 'books'\n",
    "    title = Column(String, primary_key=True)\n",
    "    author = Column(String)\n",
    "    year = Column(Integer)\n"
   ]
  },
  {
   "cell_type": "code",
   "execution_count": 11,
   "id": "b094260d-ee1f-428a-a568-6fa0372b8385",
   "metadata": {},
   "outputs": [
    {
     "name": "stdout",
     "output_type": "stream",
     "text": [
      "2024-06-25 11:49:25,363 INFO sqlalchemy.engine.Engine BEGIN (implicit)\n",
      "2024-06-25 11:49:25,366 INFO sqlalchemy.engine.Engine SELECT books.title \n",
      "FROM books ORDER BY books.title\n",
      "2024-06-25 11:49:25,367 INFO sqlalchemy.engine.Engine [generated in 0.00063s] ()\n",
      "Book A\n",
      "Book A\n",
      "Book A\n",
      "Book B\n",
      "Book B\n",
      "Book B\n",
      "Book C\n",
      "Book C\n",
      "Book C\n",
      "2024-06-25 11:49:25,368 INFO sqlalchemy.engine.Engine ROLLBACK\n"
     ]
    }
   ],
   "source": [
    "with Session(engine) as session:\n",
    "    stmt = select(Book.title).order_by(Book.title)\n",
    "    for row in session.execute(stmt):\n",
    "        print(row.title)\n"
   ]
  }
 ],
 "metadata": {
  "kernelspec": {
   "display_name": "Python 3 (ipykernel)",
   "language": "python",
   "name": "python3"
  },
  "language_info": {
   "codemirror_mode": {
    "name": "ipython",
    "version": 3
   },
   "file_extension": ".py",
   "mimetype": "text/x-python",
   "name": "python",
   "nbconvert_exporter": "python",
   "pygments_lexer": "ipython3",
   "version": "3.11.7"
  }
 },
 "nbformat": 4,
 "nbformat_minor": 5
}
